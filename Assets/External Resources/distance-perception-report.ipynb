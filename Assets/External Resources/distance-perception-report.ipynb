{
 "cells": [
  {
   "cell_type": "code",
   "execution_count": null,
   "id": "9273bd93",
   "metadata": {},
   "outputs": [],
   "source": [
    "import os\n",
    "import json\n",
    "import pandas as pd\n",
    "import pickle\n",
    "import matplotlib.pyplot as plt\n",
    "from datetime import datetime, timezone, timedelta\n",
    "from collections import Counter"
   ]
  },
  {
   "cell_type": "code",
   "execution_count": null,
   "id": "c95d33c5",
   "metadata": {},
   "outputs": [],
   "source": [
    "absolute_path = r\"Folder_Path\"\n",
    "file_name = \"NameSurname.csv\"\n",
    "times_file_name = \"NameSurname_times.csv\"\n",
    "\n",
    "file_path = os.path.join(absolute_path, file_name)\n",
    "user_data_pd = pd.read_csv(file_path)\n",
    "\n",
    "file_path_times = os.path.join(absolute_path, times_file_name)\n",
    "times_data_pd = pd.read_csv(file_path_times)"
   ]
  },
  {
   "cell_type": "markdown",
   "id": "8976cb81",
   "metadata": {},
   "source": [
    "#### Preprocess Data"
   ]
  },
  {
   "cell_type": "code",
   "execution_count": null,
   "id": "f4dc8d4d",
   "metadata": {},
   "outputs": [],
   "source": [
    "# Using dictionary comprehension to store times based on actions\n",
    "action_times = {action: times_data_pd[times_data_pd[\"action\"] == action][\"time\"].tolist() for action in times_data_pd[\"action\"].unique()}\n",
    "\n",
    "# Extracting the lists\n",
    "target_created = action_times.get(\"target_created\", [])\n",
    "start_clicked = action_times.get(\"start_clicked\", [])\n",
    "countdown_completed = action_times.get(\"countdown_completed\", [])\n",
    "estimation_performed = action_times.get(\"estimation_performed\", [])"
   ]
  },
  {
   "cell_type": "code",
   "execution_count": null,
   "id": "21c92367",
   "metadata": {},
   "outputs": [],
   "source": [
    "# Find the shortest list length\n",
    "min_length = min(len(target_created), len(start_clicked), len(countdown_completed), len(estimation_performed))\n",
    "\n",
    "# Trim all lists to the same length\n",
    "target_created = target_created[:min_length]\n",
    "start_clicked = start_clicked[:min_length]\n",
    "countdown_completed = countdown_completed[:min_length]\n",
    "estimation_performed = estimation_performed[:min_length]"
   ]
  },
  {
   "cell_type": "code",
   "execution_count": null,
   "id": "60e5df53",
   "metadata": {},
   "outputs": [],
   "source": [
    "print(target_created)\n",
    "print(start_clicked)\n",
    "print(countdown_completed)\n",
    "print(estimation_performed)"
   ]
  },
  {
   "cell_type": "code",
   "execution_count": null,
   "id": "7a216454",
   "metadata": {},
   "outputs": [],
   "source": [
    "observation_times = []\n",
    "countdown_times = []\n",
    "estimation_times = []\n",
    "\n",
    "for i in range(0, min_length):\n",
    "    observation_times.append(round(start_clicked[i] - target_created[i], 2))\n",
    "    countdown_times.append(round(countdown_completed[i] - start_clicked[i], 2))\n",
    "    estimation_times.append(round(estimation_performed[i] - countdown_completed[i], 2))"
   ]
  },
  {
   "cell_type": "code",
   "execution_count": null,
   "id": "8f86509a",
   "metadata": {},
   "outputs": [],
   "source": [
    "print(observation_times)\n",
    "print(countdown_times)\n",
    "print(estimation_times)"
   ]
  },
  {
   "cell_type": "code",
   "execution_count": null,
   "id": "e6cdd302",
   "metadata": {},
   "outputs": [],
   "source": [
    "user_data_pd[\"observation_time\"] = observation_times\n",
    "user_data_pd[\"countdown_time\"] = countdown_times\n",
    "user_data_pd[\"estimation_time\"] = estimation_times"
   ]
  },
  {
   "cell_type": "markdown",
   "id": "b4b4ef4d",
   "metadata": {},
   "source": [
    "#### Display Details"
   ]
  },
  {
   "cell_type": "code",
   "execution_count": null,
   "id": "7a82028e",
   "metadata": {},
   "outputs": [],
   "source": [
    "display(user_data_pd)"
   ]
  },
  {
   "cell_type": "markdown",
   "id": "fd50fea8",
   "metadata": {},
   "source": [
    "#### Statistical Details"
   ]
  },
  {
   "cell_type": "code",
   "execution_count": null,
   "id": "9bd97bab",
   "metadata": {},
   "outputs": [],
   "source": [
    "success_count = user_data_pd['is_success'].sum()\n",
    "success_ratio = success_count / len(user_data_pd)"
   ]
  },
  {
   "cell_type": "code",
   "execution_count": null,
   "id": "d55d4252",
   "metadata": {},
   "outputs": [],
   "source": [
    "print('Success Count: ' + str(success_count))\n",
    "print('Success Ratio: ' + str(success_ratio))"
   ]
  },
  {
   "cell_type": "code",
   "execution_count": null,
   "id": "712a946d",
   "metadata": {},
   "outputs": [],
   "source": [
    "underestimate_count = ((user_data_pd['is_success'] == False) & (user_data_pd['object_z'] > user_data_pd['clicked_z'])).sum()\n",
    "underestimate_ratio = underestimate_count / len(user_data_pd)"
   ]
  },
  {
   "cell_type": "code",
   "execution_count": null,
   "id": "7867374a",
   "metadata": {},
   "outputs": [],
   "source": [
    "print('Underestimate Count: ' + str(underestimate_count))\n",
    "print('Underestimate Ratio: ' + str(underestimate_ratio))"
   ]
  },
  {
   "cell_type": "code",
   "execution_count": null,
   "id": "d46ad9c1",
   "metadata": {},
   "outputs": [],
   "source": [
    "overestimate_count = ((user_data_pd['is_success'] == False) & (user_data_pd['object_z'] < user_data_pd['clicked_z'])).sum()\n",
    "overestimate_ratio = overestimate_count / len(user_data_pd)"
   ]
  },
  {
   "cell_type": "code",
   "execution_count": null,
   "id": "05d3f7a8",
   "metadata": {},
   "outputs": [],
   "source": [
    "print('Overestimate Count: ' + str(overestimate_count))\n",
    "print('Overestimate Ratio: ' + str(overestimate_ratio))"
   ]
  },
  {
   "cell_type": "markdown",
   "id": "d1734b01",
   "metadata": {},
   "source": [
    "#### Visualizations for All Techniques"
   ]
  },
  {
   "cell_type": "code",
   "execution_count": null,
   "id": "ab7b81e6",
   "metadata": {},
   "outputs": [],
   "source": [
    "# Sample data (replace with your actual values)\n",
    "ratios = [success_ratio, underestimate_ratio, overestimate_ratio]  # Ensure these sum up to 1\n",
    "counts = [success_count, underestimate_count, overestimate_count]  # Corresponding counts\n",
    "labels = [f\"Success ({success_count})\", f\"Underestimated ({underestimate_count})\", f\"Overestimated ({overestimate_count})\"]  # Labels with counts\n",
    "\n",
    "# Create the pie chart\n",
    "plt.figure(figsize=(6, 6))\n",
    "plt.pie(ratios, labels=labels, autopct=\"%1.1f%%\", startangle=140, colors=['green', 'red', 'blue'])\n",
    "\n",
    "# Display the chart\n",
    "plt.title(\"Outcome Distribution\")\n",
    "plt.show()"
   ]
  },
  {
   "cell_type": "code",
   "execution_count": null,
   "id": "0067ea50",
   "metadata": {},
   "outputs": [],
   "source": [
    "# Sample data (replace with actual values)\n",
    "ratios = [success_ratio, underestimate_ratio, overestimate_ratio]  # Ensure these sum up to 1\n",
    "counts = [success_count, underestimate_count, overestimate_count]  # Corresponding counts\n",
    "labels = [\"Success\", \"Underestimated\", \"Overestimated\"]  # Labels without counts for clarity\n",
    "\n",
    "# Create the bar chart\n",
    "plt.figure(figsize=(8, 6))\n",
    "plt.bar(labels, counts, color=['green', 'red', 'blue'])\n",
    "\n",
    "# Add value labels on top of bars\n",
    "for i, count in enumerate(counts):\n",
    "    plt.text(i, count + max(counts) * 0.02, str(count), ha='center', fontsize=12)\n",
    "\n",
    "# Display the chart\n",
    "plt.xlabel(\"Outcome\")\n",
    "plt.ylabel(\"Count\")\n",
    "plt.title(\"Outcome Distribution\")\n",
    "plt.ylim(0, max(counts) * 1.2)  # Adjust y-limit for better spacing\n",
    "plt.show()"
   ]
  },
  {
   "cell_type": "markdown",
   "id": "3c926e92",
   "metadata": {},
   "source": [
    "#### Visualization for Individual Techniques"
   ]
  },
  {
   "cell_type": "markdown",
   "id": "da7d24fe",
   "metadata": {},
   "source": [
    "##### RodCast"
   ]
  },
  {
   "cell_type": "code",
   "execution_count": null,
   "id": "97edcbb6",
   "metadata": {},
   "outputs": [],
   "source": [
    "# Filter the DataFrame where technique is \"RodCast\" and is_success is True\n",
    "rodcast_data = user_data_pd[(user_data_pd['technique'] == 'RodCast')]\n",
    "\n",
    "# Get the count of successful cases\n",
    "rodcast_success_count = rodcast_data['is_success'].sum()\n",
    "\n",
    "# Compute the success ratio\n",
    "rodcast_success_ratio = rodcast_success_count / len(rodcast_data)"
   ]
  },
  {
   "cell_type": "code",
   "execution_count": null,
   "id": "12bcd5cb",
   "metadata": {},
   "outputs": [],
   "source": [
    "print('Success Count: ' + str(rodcast_success_count))\n",
    "print('Success Ratio: ' + str(rodcast_success_ratio))"
   ]
  },
  {
   "cell_type": "code",
   "execution_count": null,
   "id": "9c6876ae",
   "metadata": {},
   "outputs": [],
   "source": [
    "rodcast_underestimate_count = ((rodcast_data['is_success'] == False) & (rodcast_data['object_z'] > rodcast_data['clicked_z'])).sum()\n",
    "rodcast_underestimate_ratio = rodcast_underestimate_count / len(rodcast_data)"
   ]
  },
  {
   "cell_type": "code",
   "execution_count": null,
   "id": "6353a97a",
   "metadata": {},
   "outputs": [],
   "source": [
    "print('Underestimate Count: ' + str(rodcast_underestimate_count))\n",
    "print('Underestimate Ratio: ' + str(rodcast_underestimate_ratio))"
   ]
  },
  {
   "cell_type": "code",
   "execution_count": null,
   "id": "74c0528e",
   "metadata": {},
   "outputs": [],
   "source": [
    "rodcast_overestimate_count = ((rodcast_data['is_success'] == False) & (rodcast_data['object_z'] < rodcast_data['clicked_z'])).sum()\n",
    "rodcast_overestimate_ratio = rodcast_overestimate_count / len(rodcast_data)"
   ]
  },
  {
   "cell_type": "code",
   "execution_count": null,
   "id": "ea640be5",
   "metadata": {},
   "outputs": [],
   "source": [
    "print('Overestimate Count: ' + str(rodcast_overestimate_count))\n",
    "print('Overestimate Ratio: ' + str(rodcast_overestimate_ratio))"
   ]
  },
  {
   "cell_type": "code",
   "execution_count": null,
   "id": "686de786",
   "metadata": {},
   "outputs": [],
   "source": [
    "# Sample data (replace with your actual values)\n",
    "ratios = [rodcast_success_ratio, rodcast_underestimate_ratio, rodcast_overestimate_ratio]  # Ensure these sum up to 1\n",
    "counts = [rodcast_success_count, rodcast_underestimate_count, rodcast_overestimate_count]  # Corresponding counts\n",
    "labels = [f\"Success ({rodcast_success_count})\", f\"Underestimated ({rodcast_underestimate_count})\", f\"Overestimated ({rodcast_overestimate_count})\"]  # Labels with counts\n",
    "\n",
    "# Create the pie chart\n",
    "plt.figure(figsize=(6, 6))\n",
    "plt.pie(ratios, labels=labels, autopct=\"%1.1f%%\", startangle=140, colors=['green', 'red', 'blue'])\n",
    "\n",
    "# Display the chart\n",
    "plt.title(\"Outcome Distribution\")\n",
    "plt.show()"
   ]
  },
  {
   "cell_type": "code",
   "execution_count": null,
   "id": "f942d725",
   "metadata": {},
   "outputs": [],
   "source": [
    "# Sample data (replace with actual values)\n",
    "ratios = [rodcast_success_ratio, rodcast_underestimate_ratio, rodcast_overestimate_ratio]  # Ensure these sum up to 1\n",
    "counts = [rodcast_success_count, rodcast_underestimate_count, rodcast_overestimate_count]  # Corresponding counts\n",
    "labels = [\"Success\", \"Underestimated\", \"Overestimated\"]  # Labels without counts for clarity\n",
    "\n",
    "# Create the bar chart\n",
    "plt.figure(figsize=(8, 6))\n",
    "plt.bar(labels, counts, color=['green', 'red', 'blue'])\n",
    "\n",
    "# Add value labels on top of bars\n",
    "for i, count in enumerate(counts):\n",
    "    plt.text(i, count + max(counts) * 0.02, str(count), ha='center', fontsize=12)\n",
    "\n",
    "# Display the chart\n",
    "plt.xlabel(\"Outcome\")\n",
    "plt.ylabel(\"Count\")\n",
    "plt.title(\"Outcome Distribution (RodCast)\")\n",
    "plt.ylim(0, max(counts) * 1.2)  # Adjust y-limit for better spacing\n",
    "plt.show()"
   ]
  },
  {
   "cell_type": "markdown",
   "id": "17c44f2d",
   "metadata": {},
   "source": [
    "##### Flower Cone"
   ]
  },
  {
   "cell_type": "code",
   "execution_count": null,
   "id": "f9b279f8",
   "metadata": {},
   "outputs": [],
   "source": [
    "# Filter the DataFrame where technique is \"RodCast\" and is_success is True\n",
    "flowercone_data = user_data_pd[(user_data_pd['technique'] == 'FlowerCone')]\n",
    "\n",
    "# Get the count of successful cases\n",
    "flowercone_success_count = flowercone_data['is_success'].sum()\n",
    "\n",
    "# Compute the success ratio\n",
    "flowercone_success_ratio = flowercone_success_count / len(flowercone_data)"
   ]
  },
  {
   "cell_type": "code",
   "execution_count": null,
   "id": "bda1ab0a",
   "metadata": {},
   "outputs": [],
   "source": [
    "print('Success Count: ' + str(flowercone_success_count))\n",
    "print('Success Ratio: ' + str(flowercone_success_ratio))"
   ]
  },
  {
   "cell_type": "code",
   "execution_count": null,
   "id": "0115ab45",
   "metadata": {},
   "outputs": [],
   "source": [
    "flowercone_underestimate_count = ((flowercone_data['is_success'] == False) & (flowercone_data['object_z'] > flowercone_data['clicked_z'])).sum()\n",
    "flowercone_underestimate_ratio = flowercone_underestimate_count / len(flowercone_data)"
   ]
  },
  {
   "cell_type": "code",
   "execution_count": null,
   "id": "e896e1a6",
   "metadata": {},
   "outputs": [],
   "source": [
    "print('Underestimate Count: ' + str(flowercone_underestimate_count))\n",
    "print('Underestimate Ratio: ' + str(flowercone_underestimate_ratio))"
   ]
  },
  {
   "cell_type": "code",
   "execution_count": null,
   "id": "47c97797",
   "metadata": {},
   "outputs": [],
   "source": [
    "flowercone_overestimate_count = ((flowercone_data['is_success'] == False) & (flowercone_data['object_z'] < flowercone_data['clicked_z'])).sum()\n",
    "flowercone_overestimate_ratio = flowercone_overestimate_count / len(flowercone_data)"
   ]
  },
  {
   "cell_type": "code",
   "execution_count": null,
   "id": "a1186a95",
   "metadata": {},
   "outputs": [],
   "source": [
    "print('Overestimate Count: ' + str(flowercone_overestimate_count))\n",
    "print('Overestimate Ratio: ' + str(flowercone_overestimate_ratio))"
   ]
  },
  {
   "cell_type": "code",
   "execution_count": null,
   "id": "ce1e278d",
   "metadata": {},
   "outputs": [],
   "source": [
    "# Sample data (replace with your actual values)\n",
    "ratios = [flowercone_success_ratio, flowercone_underestimate_ratio, flowercone_overestimate_ratio]  # Ensure these sum up to 1\n",
    "counts = [flowercone_success_count, flowercone_underestimate_count, flowercone_overestimate_count]  # Corresponding counts\n",
    "labels = [f\"Success ({flowercone_success_count})\", f\"Underestimated ({flowercone_underestimate_count})\", f\"Overestimated ({flowercone_overestimate_count})\"]  # Labels with counts\n",
    "\n",
    "# Create the pie chart\n",
    "plt.figure(figsize=(6, 6))\n",
    "plt.pie(ratios, labels=labels, autopct=\"%1.1f%%\", startangle=140, colors=['green', 'red', 'blue'])\n",
    "\n",
    "# Display the chart\n",
    "plt.title(\"Outcome Distribution (Flower Cone)\")\n",
    "plt.show()"
   ]
  },
  {
   "cell_type": "code",
   "execution_count": null,
   "id": "427bb587",
   "metadata": {},
   "outputs": [],
   "source": [
    "# Sample data (replace with actual values)\n",
    "ratios = [flowercone_success_ratio, flowercone_underestimate_ratio, flowercone_overestimate_ratio]  # Ensure these sum up to 1\n",
    "counts = [flowercone_success_count, flowercone_underestimate_count, flowercone_overestimate_count]  # Corresponding counts\n",
    "labels = [\"Success\", \"Underestimated\", \"Overestimated\"]  # Labels without counts for clarity\n",
    "\n",
    "# Create the bar chart\n",
    "plt.figure(figsize=(8, 6))\n",
    "plt.bar(labels, counts, color=['green', 'red', 'blue'])\n",
    "\n",
    "# Add value labels on top of bars\n",
    "for i, count in enumerate(counts):\n",
    "    plt.text(i, count + max(counts) * 0.02, str(count), ha='center', fontsize=12)\n",
    "\n",
    "# Display the chart\n",
    "plt.xlabel(\"Outcome\")\n",
    "plt.ylabel(\"Count\")\n",
    "plt.title(\"Outcome Distribution (Flower Cone)\")\n",
    "plt.ylim(0, max(counts) * 1.2)  # Adjust y-limit for better spacing\n",
    "plt.show()"
   ]
  },
  {
   "cell_type": "markdown",
   "id": "20f7d141",
   "metadata": {},
   "source": [
    "##### Go-go Hand"
   ]
  },
  {
   "cell_type": "code",
   "execution_count": null,
   "id": "83327956",
   "metadata": {},
   "outputs": [],
   "source": [
    "# Filter the DataFrame where technique is \"RodCast\" and is_success is True\n",
    "gogohand_data = user_data_pd[(user_data_pd['technique'] == 'GoGoHand')]\n",
    "\n",
    "# Get the count of successful cases\n",
    "gogohand_success_count = gogohand_data['is_success'].sum()\n",
    "\n",
    "# Compute the success ratio\n",
    "gogohand_success_ratio = gogohand_success_count / len(gogohand_data)"
   ]
  },
  {
   "cell_type": "code",
   "execution_count": null,
   "id": "dc76ec02",
   "metadata": {},
   "outputs": [],
   "source": [
    "print('Success Count: ' + str(gogohand_success_count))\n",
    "print('Success Ratio: ' + str(gogohand_success_ratio))"
   ]
  },
  {
   "cell_type": "code",
   "execution_count": null,
   "id": "c99f0315",
   "metadata": {},
   "outputs": [],
   "source": [
    "gogohand_underestimate_count = ((gogohand_data['is_success'] == False) & (gogohand_data['object_z'] > gogohand_data['clicked_z'])).sum()\n",
    "gogohand_underestimate_ratio = gogohand_underestimate_count / len(gogohand_data)"
   ]
  },
  {
   "cell_type": "code",
   "execution_count": null,
   "id": "1f599c99",
   "metadata": {},
   "outputs": [],
   "source": [
    "print('Underestimate Count: ' + str(gogohand_underestimate_count))\n",
    "print('Underestimate Ratio: ' + str(gogohand_underestimate_ratio))"
   ]
  },
  {
   "cell_type": "code",
   "execution_count": null,
   "id": "5a3bbea9",
   "metadata": {},
   "outputs": [],
   "source": [
    "gogohand_overestimate_count = ((gogohand_data['is_success'] == False) & (gogohand_data['object_z'] < gogohand_data['clicked_z'])).sum()\n",
    "gogohand_overestimate_ratio = gogohand_overestimate_count / len(gogohand_data)"
   ]
  },
  {
   "cell_type": "code",
   "execution_count": null,
   "id": "eea3c7b8",
   "metadata": {},
   "outputs": [],
   "source": [
    "print('Overestimate Count: ' + str(gogohand_overestimate_count))\n",
    "print('Overestimate Ratio: ' + str(gogohand_overestimate_ratio))"
   ]
  },
  {
   "cell_type": "code",
   "execution_count": null,
   "id": "4ae59888",
   "metadata": {},
   "outputs": [],
   "source": [
    "# Sample data (replace with your actual values)\n",
    "ratios = [gogohand_success_ratio, gogohand_underestimate_ratio, gogohand_overestimate_ratio]  # Ensure these sum up to 1\n",
    "counts = [gogohand_success_count, gogohand_underestimate_count, gogohand_overestimate_count]  # Corresponding counts\n",
    "labels = [f\"Success ({gogohand_success_count})\", f\"Underestimated ({gogohand_underestimate_count})\", f\"Overestimated ({gogohand_overestimate_count})\"]  # Labels with counts\n",
    "\n",
    "# Create the pie chart\n",
    "plt.figure(figsize=(6, 6))\n",
    "plt.pie(ratios, labels=labels, autopct=\"%1.1f%%\", startangle=140, colors=['green', 'red', 'blue'])\n",
    "\n",
    "# Display the chart\n",
    "plt.title(\"Outcome Distribution (Go-go Hand)\")\n",
    "plt.show()"
   ]
  },
  {
   "cell_type": "code",
   "execution_count": null,
   "id": "99fad85b",
   "metadata": {},
   "outputs": [],
   "source": [
    "# Sample data (replace with actual values)\n",
    "ratios = [gogohand_success_ratio, gogohand_underestimate_ratio, gogohand_overestimate_ratio]  # Ensure these sum up to 1\n",
    "counts = [gogohand_success_count, gogohand_underestimate_count, gogohand_overestimate_count]  # Corresponding counts\n",
    "labels = [f\"Success ({gogohand_success_count})\", f\"Underestimated ({gogohand_underestimate_count})\", f\"Overestimated ({gogohand_overestimate_count})\"]  # Labels with counts\n",
    "\n",
    "# Create the bar chart\n",
    "plt.figure(figsize=(8, 6))\n",
    "plt.bar(labels, counts, color=['green', 'red', 'blue'])\n",
    "\n",
    "# Add value labels on top of bars\n",
    "for i, count in enumerate(counts):\n",
    "    plt.text(i, count + max(counts) * 0.02, str(count), ha='center', fontsize=12)\n",
    "\n",
    "# Display the chart\n",
    "plt.xlabel(\"Outcome\")\n",
    "plt.ylabel(\"Count\")\n",
    "plt.title(\"Outcome Distribution (Go-go Hand)\")\n",
    "plt.ylim(0, max(counts) * 1.2)  # Adjust y-limit for better spacing\n",
    "plt.show()"
   ]
  }
 ],
 "metadata": {
  "kernelspec": {
   "display_name": "Python 3",
   "language": "python",
   "name": "python3"
  },
  "language_info": {
   "codemirror_mode": {
    "name": "ipython",
    "version": 3
   },
   "file_extension": ".py",
   "mimetype": "text/x-python",
   "name": "python",
   "nbconvert_exporter": "python",
   "pygments_lexer": "ipython3",
   "version": "3.12.5"
  }
 },
 "nbformat": 4,
 "nbformat_minor": 5
}
